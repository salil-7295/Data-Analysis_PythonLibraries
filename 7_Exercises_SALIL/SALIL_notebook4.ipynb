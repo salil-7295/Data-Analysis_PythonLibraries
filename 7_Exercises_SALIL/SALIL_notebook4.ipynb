{
 "cells": [
  {
   "cell_type": "markdown",
   "metadata": {},
   "source": [
    "# Challenge\n"
   ]
  },
  {
   "cell_type": "markdown",
   "metadata": {},
   "source": [
    "## Introduction to the datase\n"
   ]
  },
  {
   "cell_type": "markdown",
   "metadata": {},
   "source": [
    "- Read all-ages.csv from a DataFrame and assign it to the all_ages variable.\n",
    "- Read recent-grads.csv from a DataFrame and assign it to the recent_grads variable.\n",
    "- Display the first 5 lines of all_ages and recent_grads.\n"
   ]
  },
  {
   "cell_type": "code",
   "execution_count": 1,
   "metadata": {},
   "outputs": [],
   "source": [
    "import pandas as pd\n",
    "\n",
    "all_ages = pd.read_csv(\"all-ages.csv\")\n",
    "recent_grads = pd.read_csv(\"recent-grads.csv\")"
   ]
  },
  {
   "cell_type": "code",
   "execution_count": 2,
   "metadata": {},
   "outputs": [
    {
     "data": {
      "text/html": [
       "<div>\n",
       "<style scoped>\n",
       "    .dataframe tbody tr th:only-of-type {\n",
       "        vertical-align: middle;\n",
       "    }\n",
       "\n",
       "    .dataframe tbody tr th {\n",
       "        vertical-align: top;\n",
       "    }\n",
       "\n",
       "    .dataframe thead th {\n",
       "        text-align: right;\n",
       "    }\n",
       "</style>\n",
       "<table border=\"1\" class=\"dataframe\">\n",
       "  <thead>\n",
       "    <tr style=\"text-align: right;\">\n",
       "      <th></th>\n",
       "      <th>Major_code</th>\n",
       "      <th>Major</th>\n",
       "      <th>Major_category</th>\n",
       "      <th>Total</th>\n",
       "      <th>Employed</th>\n",
       "      <th>Employed_full_time_year_round</th>\n",
       "      <th>Unemployed</th>\n",
       "      <th>Unemployment_rate</th>\n",
       "      <th>Median</th>\n",
       "      <th>P25th</th>\n",
       "      <th>P75th</th>\n",
       "    </tr>\n",
       "  </thead>\n",
       "  <tbody>\n",
       "    <tr>\n",
       "      <th>0</th>\n",
       "      <td>1100</td>\n",
       "      <td>GENERAL AGRICULTURE</td>\n",
       "      <td>Agriculture &amp; Natural Resources</td>\n",
       "      <td>128148.0</td>\n",
       "      <td>90245.0</td>\n",
       "      <td>74078.0</td>\n",
       "      <td>2423.0</td>\n",
       "      <td>0.026147</td>\n",
       "      <td>50000.0</td>\n",
       "      <td>34000.0</td>\n",
       "      <td>80000.0</td>\n",
       "    </tr>\n",
       "    <tr>\n",
       "      <th>1</th>\n",
       "      <td>1101</td>\n",
       "      <td>AGRICULTURE PRODUCTION AND MANAGEMENT</td>\n",
       "      <td>Agriculture &amp; Natural Resources</td>\n",
       "      <td>95326.0</td>\n",
       "      <td>76865.0</td>\n",
       "      <td>64240.0</td>\n",
       "      <td>2266.0</td>\n",
       "      <td>0.028636</td>\n",
       "      <td>54000.0</td>\n",
       "      <td>36000.0</td>\n",
       "      <td>80000.0</td>\n",
       "    </tr>\n",
       "    <tr>\n",
       "      <th>2</th>\n",
       "      <td>1102</td>\n",
       "      <td>AGRICULTURAL ECONOMICS</td>\n",
       "      <td>Agriculture &amp; Natural Resources</td>\n",
       "      <td>33955.0</td>\n",
       "      <td>26321.0</td>\n",
       "      <td>22810.0</td>\n",
       "      <td>821.0</td>\n",
       "      <td>0.030248</td>\n",
       "      <td>63000.0</td>\n",
       "      <td>40000.0</td>\n",
       "      <td>98000.0</td>\n",
       "    </tr>\n",
       "    <tr>\n",
       "      <th>3</th>\n",
       "      <td>1103</td>\n",
       "      <td>ANIMAL SCIENCES</td>\n",
       "      <td>Agriculture &amp; Natural Resources</td>\n",
       "      <td>103549.0</td>\n",
       "      <td>81177.0</td>\n",
       "      <td>64937.0</td>\n",
       "      <td>3619.0</td>\n",
       "      <td>0.042679</td>\n",
       "      <td>46000.0</td>\n",
       "      <td>30000.0</td>\n",
       "      <td>72000.0</td>\n",
       "    </tr>\n",
       "    <tr>\n",
       "      <th>4</th>\n",
       "      <td>1104</td>\n",
       "      <td>FOOD SCIENCE</td>\n",
       "      <td>Agriculture &amp; Natural Resources</td>\n",
       "      <td>24280.0</td>\n",
       "      <td>17281.0</td>\n",
       "      <td>12722.0</td>\n",
       "      <td>894.0</td>\n",
       "      <td>0.049188</td>\n",
       "      <td>62000.0</td>\n",
       "      <td>38500.0</td>\n",
       "      <td>90000.0</td>\n",
       "    </tr>\n",
       "  </tbody>\n",
       "</table>\n",
       "</div>"
      ],
      "text/plain": [
       "  Major_code                                  Major  \\\n",
       "0       1100                    GENERAL AGRICULTURE   \n",
       "1       1101  AGRICULTURE PRODUCTION AND MANAGEMENT   \n",
       "2       1102                 AGRICULTURAL ECONOMICS   \n",
       "3       1103                        ANIMAL SCIENCES   \n",
       "4       1104                           FOOD SCIENCE   \n",
       "\n",
       "                    Major_category     Total  Employed  \\\n",
       "0  Agriculture & Natural Resources  128148.0   90245.0   \n",
       "1  Agriculture & Natural Resources   95326.0   76865.0   \n",
       "2  Agriculture & Natural Resources   33955.0   26321.0   \n",
       "3  Agriculture & Natural Resources  103549.0   81177.0   \n",
       "4  Agriculture & Natural Resources   24280.0   17281.0   \n",
       "\n",
       "   Employed_full_time_year_round  Unemployed  Unemployment_rate   Median  \\\n",
       "0                        74078.0      2423.0           0.026147  50000.0   \n",
       "1                        64240.0      2266.0           0.028636  54000.0   \n",
       "2                        22810.0       821.0           0.030248  63000.0   \n",
       "3                        64937.0      3619.0           0.042679  46000.0   \n",
       "4                        12722.0       894.0           0.049188  62000.0   \n",
       "\n",
       "     P25th    P75th  \n",
       "0  34000.0  80000.0  \n",
       "1  36000.0  80000.0  \n",
       "2  40000.0  98000.0  \n",
       "3  30000.0  72000.0  \n",
       "4  38500.0  90000.0  "
      ]
     },
     "execution_count": 2,
     "metadata": {},
     "output_type": "execute_result"
    }
   ],
   "source": [
    "all_ages[:5]"
   ]
  },
  {
   "cell_type": "code",
   "execution_count": 3,
   "metadata": {},
   "outputs": [
    {
     "data": {
      "text/html": [
       "<div>\n",
       "<style scoped>\n",
       "    .dataframe tbody tr th:only-of-type {\n",
       "        vertical-align: middle;\n",
       "    }\n",
       "\n",
       "    .dataframe tbody tr th {\n",
       "        vertical-align: top;\n",
       "    }\n",
       "\n",
       "    .dataframe thead th {\n",
       "        text-align: right;\n",
       "    }\n",
       "</style>\n",
       "<table border=\"1\" class=\"dataframe\">\n",
       "  <thead>\n",
       "    <tr style=\"text-align: right;\">\n",
       "      <th></th>\n",
       "      <th>Rank</th>\n",
       "      <th>Major_code</th>\n",
       "      <th>Major</th>\n",
       "      <th>Major_category</th>\n",
       "      <th>Total</th>\n",
       "      <th>Sample_size</th>\n",
       "      <th>Men</th>\n",
       "      <th>Women</th>\n",
       "      <th>ShareWomen</th>\n",
       "      <th>Employed</th>\n",
       "      <th>...</th>\n",
       "      <th>Part_time</th>\n",
       "      <th>Full_time_year_round</th>\n",
       "      <th>Unemployed</th>\n",
       "      <th>Unemployment_rate</th>\n",
       "      <th>Median</th>\n",
       "      <th>P25th</th>\n",
       "      <th>P75th</th>\n",
       "      <th>College_jobs</th>\n",
       "      <th>Non_college_jobs</th>\n",
       "      <th>Low_wage_jobs</th>\n",
       "    </tr>\n",
       "  </thead>\n",
       "  <tbody>\n",
       "    <tr>\n",
       "      <th>0</th>\n",
       "      <td>1</td>\n",
       "      <td>2419.0</td>\n",
       "      <td>PETROLEUM ENGINEERING</td>\n",
       "      <td>Engineering</td>\n",
       "      <td>2339.0</td>\n",
       "      <td>36.0</td>\n",
       "      <td>2057.0</td>\n",
       "      <td>282.0</td>\n",
       "      <td>0.120564</td>\n",
       "      <td>1976.0</td>\n",
       "      <td>...</td>\n",
       "      <td>270.0</td>\n",
       "      <td>1207.0</td>\n",
       "      <td>37.0</td>\n",
       "      <td>0.018381</td>\n",
       "      <td>110000.0</td>\n",
       "      <td>95000.0</td>\n",
       "      <td>125000.0</td>\n",
       "      <td>1534.0</td>\n",
       "      <td>364.0</td>\n",
       "      <td>193.0</td>\n",
       "    </tr>\n",
       "    <tr>\n",
       "      <th>1</th>\n",
       "      <td>2</td>\n",
       "      <td>2416.0</td>\n",
       "      <td>MINING AND MINERAL ENGINEERING</td>\n",
       "      <td>Engineering</td>\n",
       "      <td>756.0</td>\n",
       "      <td>7.0</td>\n",
       "      <td>679.0</td>\n",
       "      <td>77.0</td>\n",
       "      <td>0.101852</td>\n",
       "      <td>640.0</td>\n",
       "      <td>...</td>\n",
       "      <td>170.0</td>\n",
       "      <td>388.0</td>\n",
       "      <td>85.0</td>\n",
       "      <td>0.117241</td>\n",
       "      <td>75000.0</td>\n",
       "      <td>55000.0</td>\n",
       "      <td>90000.0</td>\n",
       "      <td>350.0</td>\n",
       "      <td>257.0</td>\n",
       "      <td>50.0</td>\n",
       "    </tr>\n",
       "    <tr>\n",
       "      <th>2</th>\n",
       "      <td>3</td>\n",
       "      <td>2415.0</td>\n",
       "      <td>METALLURGICAL ENGINEERING</td>\n",
       "      <td>Engineering</td>\n",
       "      <td>856.0</td>\n",
       "      <td>3.0</td>\n",
       "      <td>725.0</td>\n",
       "      <td>131.0</td>\n",
       "      <td>0.153037</td>\n",
       "      <td>648.0</td>\n",
       "      <td>...</td>\n",
       "      <td>133.0</td>\n",
       "      <td>340.0</td>\n",
       "      <td>16.0</td>\n",
       "      <td>0.024096</td>\n",
       "      <td>73000.0</td>\n",
       "      <td>50000.0</td>\n",
       "      <td>105000.0</td>\n",
       "      <td>456.0</td>\n",
       "      <td>176.0</td>\n",
       "      <td>0.0</td>\n",
       "    </tr>\n",
       "    <tr>\n",
       "      <th>3</th>\n",
       "      <td>4</td>\n",
       "      <td>2417.0</td>\n",
       "      <td>NAVAL ARCHITECTURE AND MARINE ENGINEERING</td>\n",
       "      <td>Engineering</td>\n",
       "      <td>1258.0</td>\n",
       "      <td>16.0</td>\n",
       "      <td>1123.0</td>\n",
       "      <td>135.0</td>\n",
       "      <td>0.107313</td>\n",
       "      <td>758.0</td>\n",
       "      <td>...</td>\n",
       "      <td>150.0</td>\n",
       "      <td>692.0</td>\n",
       "      <td>40.0</td>\n",
       "      <td>0.050125</td>\n",
       "      <td>70000.0</td>\n",
       "      <td>43000.0</td>\n",
       "      <td>80000.0</td>\n",
       "      <td>529.0</td>\n",
       "      <td>102.0</td>\n",
       "      <td>0.0</td>\n",
       "    </tr>\n",
       "    <tr>\n",
       "      <th>4</th>\n",
       "      <td>5</td>\n",
       "      <td>2405.0</td>\n",
       "      <td>CHEMICAL ENGINEERING</td>\n",
       "      <td>Engineering</td>\n",
       "      <td>32260.0</td>\n",
       "      <td>289.0</td>\n",
       "      <td>21239.0</td>\n",
       "      <td>11021.0</td>\n",
       "      <td>0.341631</td>\n",
       "      <td>25694.0</td>\n",
       "      <td>...</td>\n",
       "      <td>5180.0</td>\n",
       "      <td>16697.0</td>\n",
       "      <td>1672.0</td>\n",
       "      <td>0.061098</td>\n",
       "      <td>65000.0</td>\n",
       "      <td>50000.0</td>\n",
       "      <td>75000.0</td>\n",
       "      <td>18314.0</td>\n",
       "      <td>4440.0</td>\n",
       "      <td>972.0</td>\n",
       "    </tr>\n",
       "  </tbody>\n",
       "</table>\n",
       "<p>5 rows × 21 columns</p>\n",
       "</div>"
      ],
      "text/plain": [
       "  Rank  Major_code                                      Major Major_category  \\\n",
       "0    1      2419.0                      PETROLEUM ENGINEERING    Engineering   \n",
       "1    2      2416.0             MINING AND MINERAL ENGINEERING    Engineering   \n",
       "2    3      2415.0                  METALLURGICAL ENGINEERING    Engineering   \n",
       "3    4      2417.0  NAVAL ARCHITECTURE AND MARINE ENGINEERING    Engineering   \n",
       "4    5      2405.0                       CHEMICAL ENGINEERING    Engineering   \n",
       "\n",
       "     Total  Sample_size      Men    Women  ShareWomen  Employed  ...  \\\n",
       "0   2339.0         36.0   2057.0    282.0    0.120564    1976.0  ...   \n",
       "1    756.0          7.0    679.0     77.0    0.101852     640.0  ...   \n",
       "2    856.0          3.0    725.0    131.0    0.153037     648.0  ...   \n",
       "3   1258.0         16.0   1123.0    135.0    0.107313     758.0  ...   \n",
       "4  32260.0        289.0  21239.0  11021.0    0.341631   25694.0  ...   \n",
       "\n",
       "   Part_time  Full_time_year_round  Unemployed  Unemployment_rate    Median  \\\n",
       "0      270.0                1207.0        37.0           0.018381  110000.0   \n",
       "1      170.0                 388.0        85.0           0.117241   75000.0   \n",
       "2      133.0                 340.0        16.0           0.024096   73000.0   \n",
       "3      150.0                 692.0        40.0           0.050125   70000.0   \n",
       "4     5180.0               16697.0      1672.0           0.061098   65000.0   \n",
       "\n",
       "     P25th     P75th  College_jobs  Non_college_jobs  Low_wage_jobs  \n",
       "0  95000.0  125000.0        1534.0             364.0          193.0  \n",
       "1  55000.0   90000.0         350.0             257.0           50.0  \n",
       "2  50000.0  105000.0         456.0             176.0            0.0  \n",
       "3  43000.0   80000.0         529.0             102.0            0.0  \n",
       "4  50000.0   75000.0       18314.0            4440.0          972.0  \n",
       "\n",
       "[5 rows x 21 columns]"
      ]
     },
     "execution_count": 3,
     "metadata": {},
     "output_type": "execute_result"
    }
   ],
   "source": [
    "recent_grads[:5]"
   ]
  },
  {
   "cell_type": "markdown",
   "metadata": {},
   "source": [
    "## Number of students per Major category\n"
   ]
  },
  {
   "cell_type": "markdown",
   "metadata": {},
   "source": [
    "- Return the unique values of Major_category.\n",
    ">- Use the Series.unique() method to return the unique values of a Series.\n"
   ]
  },
  {
   "cell_type": "code",
   "execution_count": 4,
   "metadata": {},
   "outputs": [
    {
     "data": {
      "text/plain": [
       "array(['Engineering', 'Business', 'Physical Sciences',\n",
       "       'Law & Public Policy', 'Computers & Mathematics',\n",
       "       'Agriculture & Natural Resources',\n",
       "       'Industrial Arts & Consumer Services', 'Arts', 'Health',\n",
       "       'Social Science', nan, 'Biology & Life Science', 'Education',\n",
       "       'Humanities & Liberal Arts', 'Psychology & Social Work',\n",
       "       'Communications & Journalism', 'Interdisciplinary'], dtype=object)"
      ]
     },
     "execution_count": 4,
     "metadata": {},
     "output_type": "execute_result"
    }
   ],
   "source": [
    "all_ages['Major_category'].unique()\n",
    "recent_grads['Major_category'].unique()"
   ]
  },
  {
   "cell_type": "markdown",
   "metadata": {},
   "source": [
    "- For each unique value (use a for? loop):\n",
    ">- Return all lines where Major_category is worth this unique value.\n",
    ">- Calculate the total number of students representing this major category (Total column to sum).\n",
    ">- You will store this result in the form of a dictionary containing a Major_category key and the number of students as a value.\n"
   ]
  },
  {
   "cell_type": "code",
   "execution_count": 6,
   "metadata": {},
   "outputs": [
    {
     "name": "stdout",
     "output_type": "stream",
     "text": [
      "{'Agriculture & Natural Resources': 632437.0, 'Biology & Life Science': 1338186.0, 'Engineering': 3576013.0, 'Humanities & Liberal Arts': 3738335.0, 'Communications & Journalism': 1803822.0, 'Computers & Mathematics': 1781378.0, 'Industrial Arts & Consumer Services': 1018072.0, 'Education': 4700118.0, 'Law & Public Policy': 902926.0, 'Interdisciplinary': 45199.0, 'Health': 2950859.0, 'Social Science': 2654125.0, 'Physical Sciences': 1013152.0, nan: 0.0, 'Psychology & Social Work': 1987278.0, 'Arts': 1805865.0, 'Business': 9858741.0}\n",
      "{'Engineering': 537583.0, 'Business': 1302376.0, 'Physical Sciences': 183363.0, 'Law & Public Policy': 179107.0, 'Computers & Mathematics': 299008.0, 'Agriculture & Natural Resources': 79981.0, 'Industrial Arts & Consumer Services': 227357.0, 'Arts': 357130.0, 'Health': 463230.0, 'Social Science': 529966.0, nan: 0.0, 'Biology & Life Science': 453862.0, 'Education': 559129.0, 'Humanities & Liberal Arts': 713468.0, 'Psychology & Social Work': 481007.0, 'Communications & Journalism': 392601.0, 'Interdisciplinary': 12296.0}\n"
     ]
    }
   ],
   "source": [
    "d1 = {}\n",
    "d2 = {}\n",
    "for major in all_ages['Major_category'].unique():\n",
    "    d1[major] = all_ages['Total'][all_ages['Major_category'] == major].sum()\n",
    "print(d1)\n",
    "for major in recent_grads['Major_category'].unique():\n",
    "    d2[major] = recent_grads['Total'][recent_grads['Major_category'] == major].sum()\n",
    "print(d2)"
   ]
  },
  {
   "cell_type": "markdown",
   "metadata": {},
   "source": [
    "#### Mission:\n",
    "- Create a function in which you will use the Total column to calculate the number of students for each Major category (Major_category) in each dataset.\n",
    ">- Store the result in 2 separate dictionaries.\n",
    ">- The key for each dictionary will be Major_category and the value the total number of students.\n",
    ">- For the dataset all_ages, store the result in a dictionary called aa_car_counts.\n",
    ">- For the dataset recent_grads, store the result in a dictionary called rg_cat_counts.\n",
    "- Other method: Use a table pivot.\n",
    "- Display both dictionaries.\n"
   ]
  },
  {
   "cell_type": "code",
   "execution_count": 7,
   "metadata": {},
   "outputs": [],
   "source": [
    "def num_std_mjr(data, dictionary={}):\n",
    "    for major in data['Major_category'].unique():\n",
    "        dictionary[major] = data['Total'][data['Major_category'] == major].sum()\n",
    "    return dictionary"
   ]
  },
  {
   "cell_type": "code",
   "execution_count": 8,
   "metadata": {},
   "outputs": [],
   "source": [
    "aa_car_counts = num_std_mjr(all_ages)"
   ]
  },
  {
   "cell_type": "code",
   "execution_count": 9,
   "metadata": {},
   "outputs": [],
   "source": [
    "rg_cat_counts = num_std_mjr(recent_grads)"
   ]
  },
  {
   "cell_type": "code",
   "execution_count": 10,
   "metadata": {},
   "outputs": [
    {
     "data": {
      "text/plain": [
       "{'Agriculture & Natural Resources': 79981.0,\n",
       " 'Biology & Life Science': 453862.0,\n",
       " 'Engineering': 537583.0,\n",
       " 'Humanities & Liberal Arts': 713468.0,\n",
       " 'Communications & Journalism': 392601.0,\n",
       " 'Computers & Mathematics': 299008.0,\n",
       " 'Industrial Arts & Consumer Services': 227357.0,\n",
       " 'Education': 559129.0,\n",
       " 'Law & Public Policy': 179107.0,\n",
       " 'Interdisciplinary': 12296.0,\n",
       " 'Health': 463230.0,\n",
       " 'Social Science': 529966.0,\n",
       " 'Physical Sciences': 183363.0,\n",
       " nan: 0.0,\n",
       " 'Psychology & Social Work': 481007.0,\n",
       " 'Arts': 357130.0,\n",
       " 'Business': 1302376.0}"
      ]
     },
     "execution_count": 10,
     "metadata": {},
     "output_type": "execute_result"
    }
   ],
   "source": [
    "aa_car_counts"
   ]
  },
  {
   "cell_type": "code",
   "execution_count": 11,
   "metadata": {},
   "outputs": [
    {
     "data": {
      "text/plain": [
       "{'Agriculture & Natural Resources': 79981.0,\n",
       " 'Biology & Life Science': 453862.0,\n",
       " 'Engineering': 537583.0,\n",
       " 'Humanities & Liberal Arts': 713468.0,\n",
       " 'Communications & Journalism': 392601.0,\n",
       " 'Computers & Mathematics': 299008.0,\n",
       " 'Industrial Arts & Consumer Services': 227357.0,\n",
       " 'Education': 559129.0,\n",
       " 'Law & Public Policy': 179107.0,\n",
       " 'Interdisciplinary': 12296.0,\n",
       " 'Health': 463230.0,\n",
       " 'Social Science': 529966.0,\n",
       " 'Physical Sciences': 183363.0,\n",
       " nan: 0.0,\n",
       " 'Psychology & Social Work': 481007.0,\n",
       " 'Arts': 357130.0,\n",
       " 'Business': 1302376.0}"
      ]
     },
     "execution_count": 11,
     "metadata": {},
     "output_type": "execute_result"
    }
   ],
   "source": [
    "rg_cat_counts"
   ]
  },
  {
   "cell_type": "markdown",
   "metadata": {},
   "source": [
    "## Low-wage job rate\n"
   ]
  },
  {
   "cell_type": "markdown",
   "metadata": {},
   "source": [
    "- Use the columns \"Low_wage_jobs\" and \"Total\" to calculate the proportion of young graduates who had to find low-wage jobs (recent_grads).\n",
    ">- Remember that you can use the Series.sum() method to return the sum of the values of a column\n",
    "- Store the result in the variable low_wage_proportion and display it.\n"
   ]
  },
  {
   "cell_type": "code",
   "execution_count": 13,
   "metadata": {},
   "outputs": [
    {
     "data": {
      "text/plain": [
       "0.09856140415130317"
      ]
     },
     "execution_count": 13,
     "metadata": {},
     "output_type": "execute_result"
    }
   ],
   "source": [
    "lwage_prop = (recent_grads[\"Low_wage_jobs\"].sum() / recent_grads[\"Total\"].sum())\n",
    "lwage_prop"
   ]
  },
  {
   "cell_type": "markdown",
   "metadata": {},
   "source": [
    "## Compare datasets\n"
   ]
  },
  {
   "cell_type": "markdown",
   "metadata": {},
   "source": [
    "- Use a for loop to browse all majors.\n",
    ">- For each major and each DataFrame, filter only the lines of the DataFrame corresponding to that major.\n",
    ">- Compare the values for the \"Unemployment_rate\" column to see which of the 2 DataFrames has the lowest value.\n",
    ">- Increment (cad add 1) to the rg_lower_count variable if the value for Unemployment_rate is smaller in dataframe recent_grads than in dataframe all_ages\n",
    "- Display the result rg_lower_count.\n"
   ]
  },
  {
   "cell_type": "code",
   "execution_count": null,
   "metadata": {},
   "outputs": [],
   "source": []
  },
  {
   "cell_type": "code",
   "execution_count": null,
   "metadata": {},
   "outputs": [],
   "source": []
  }
 ],
 "metadata": {
  "kernelspec": {
   "display_name": "Python 3",
   "language": "python",
   "name": "python3"
  },
  "language_info": {
   "codemirror_mode": {
    "name": "ipython",
    "version": 3
   },
   "file_extension": ".py",
   "mimetype": "text/x-python",
   "name": "python",
   "nbconvert_exporter": "python",
   "pygments_lexer": "ipython3",
   "version": "3.8.3"
  }
 },
 "nbformat": 4,
 "nbformat_minor": 2
}
